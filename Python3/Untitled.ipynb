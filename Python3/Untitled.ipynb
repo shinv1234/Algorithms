{
 "cells": [
  {
   "cell_type": "code",
   "execution_count": 133,
   "metadata": {
    "collapsed": true
   },
   "outputs": [],
   "source": [
    "import numpy as np"
   ]
  },
  {
   "cell_type": "code",
   "execution_count": 163,
   "metadata": {
    "collapsed": true
   },
   "outputs": [],
   "source": [
    "def sol_select(lst, i):\n",
    "    lst.sort()\n",
    "    return lst[i]"
   ]
  },
  {
   "cell_type": "code",
   "execution_count": 218,
   "metadata": {
    "collapsed": false
   },
   "outputs": [],
   "source": [
    "def partition(lst):\n",
    "    changed_lst = []\n",
    "    comparison_element = lst[len(lst)-1]\n",
    "    changed_lst.append(comparison_element)\n",
    "    comparison_idx = 0\n",
    "    for i in range(len(lst)-1):\n",
    "        element = lst[i]\n",
    "        if comparison_element > element:\n",
    "            changed_lst.insert(0, element)\n",
    "            comparison_idx += 1\n",
    "        else:\n",
    "            changed_lst.append(element)\n",
    "    return changed_lst, comparison_idx\n",
    "\n",
    "\n",
    "def select(lst, i):\n",
    "    if len(lst) <= 1:\n",
    "        print(lst[0])\n",
    "        return lst[0]\n",
    "    changed_lst, comparison_idx = partition(lst)\n",
    "    # print('i:', i, 'lst:',lst ,'changed_lst:', changed_lst,'comparison_idx:' , comparison_idx)\n",
    "    if i < comparison_idx:\n",
    "        select(changed_lst[:comparison_idx], i)\n",
    "    elif i > comparison_idx:\n",
    "        select(changed_lst[comparison_idx+1:], i-comparison_idx-1)\n",
    "    elif i == comparison_idx:\n",
    "        print(changed_lst[i])\n",
    "        return changed_lst[i]\n",
    "    "
   ]
  },
  {
   "cell_type": "code",
   "execution_count": null,
   "metadata": {
    "collapsed": true
   },
   "outputs": [],
   "source": []
  },
  {
   "cell_type": "code",
   "execution_count": 248,
   "metadata": {
    "collapsed": true
   },
   "outputs": [],
   "source": [
    "aaa = np.random.randint(1, 100 + 1, 10)"
   ]
  },
  {
   "cell_type": "code",
   "execution_count": 249,
   "metadata": {
    "collapsed": false
   },
   "outputs": [
    {
     "data": {
      "text/plain": [
       "array([95, 97, 49, 52, 30, 12, 35, 29, 84, 35])"
      ]
     },
     "execution_count": 249,
     "metadata": {},
     "output_type": "execute_result"
    }
   ],
   "source": [
    "aaa"
   ]
  },
  {
   "cell_type": "code",
   "execution_count": 250,
   "metadata": {
    "collapsed": false
   },
   "outputs": [
    {
     "name": "stdout",
     "output_type": "stream",
     "text": [
      "49\n"
     ]
    }
   ],
   "source": [
    "select_v = select(aaa, 5)"
   ]
  },
  {
   "cell_type": "code",
   "execution_count": 251,
   "metadata": {
    "collapsed": false,
    "scrolled": true
   },
   "outputs": [],
   "source": [
    "sol_select_v = sol_select(aaa, 5)"
   ]
  },
  {
   "cell_type": "code",
   "execution_count": 252,
   "metadata": {
    "collapsed": false
   },
   "outputs": [
    {
     "data": {
      "text/plain": [
       "(None, 49)"
      ]
     },
     "execution_count": 252,
     "metadata": {},
     "output_type": "execute_result"
    }
   ],
   "source": [
    "select_v, sol_select_v"
   ]
  },
  {
   "cell_type": "code",
   "execution_count": null,
   "metadata": {
    "collapsed": true
   },
   "outputs": [],
   "source": []
  },
  {
   "cell_type": "code",
   "execution_count": null,
   "metadata": {
    "collapsed": true
   },
   "outputs": [],
   "source": []
  },
  {
   "cell_type": "code",
   "execution_count": null,
   "metadata": {
    "collapsed": true
   },
   "outputs": [],
   "source": []
  },
  {
   "cell_type": "code",
   "execution_count": 167,
   "metadata": {
    "collapsed": false
   },
   "outputs": [
    {
     "name": "stdout",
     "output_type": "stream",
     "text": [
      "80\n",
      "38\n",
      "65\n",
      "33\n",
      "55\n",
      "65\n",
      "27\n",
      "54\n",
      "80\n",
      "22\n",
      "46\n",
      "53\n",
      "53\n",
      "40\n",
      "80\n",
      "78\n",
      "60\n",
      "64\n",
      "57\n",
      "62\n",
      "72\n",
      "39\n",
      "50\n",
      "47\n",
      "80\n",
      "43\n",
      "77\n",
      "60\n",
      "40\n",
      "44\n",
      "27\n",
      "41\n",
      "45\n",
      "59\n",
      "70\n",
      "55\n",
      "41\n",
      "47\n",
      "70\n",
      "25\n",
      "67\n",
      "46\n",
      "39\n",
      "66\n",
      "74\n",
      "66\n",
      "49\n",
      "43\n",
      "82\n",
      "33\n",
      "62\n",
      "49\n",
      "68\n",
      "45\n",
      "55\n",
      "41\n",
      "50\n",
      "63\n",
      "63\n",
      "67\n",
      "55\n",
      "68\n",
      "75\n",
      "40\n",
      "35\n",
      "48\n",
      "34\n",
      "77\n",
      "44\n",
      "58\n",
      "57\n",
      "61\n",
      "58\n",
      "40\n",
      "66\n",
      "61\n",
      "48\n",
      "76\n",
      "53\n",
      "48\n",
      "60\n",
      "33\n",
      "31\n",
      "67\n",
      "22\n",
      "61\n",
      "68\n",
      "31\n",
      "84\n",
      "51\n",
      "48\n",
      "39\n",
      "45\n",
      "37\n",
      "50\n",
      "49\n",
      "89\n",
      "55\n",
      "45\n",
      "67\n"
     ]
    },
    {
     "name": "stderr",
     "output_type": "stream",
     "text": [
      "C:\\ProgramData\\Anaconda3\\lib\\site-packages\\ipykernel\\__main__.py:2: DeprecationWarning: This function is deprecated. Please call randint(1, 100 + 1) instead\n",
      "  from ipykernel import kernelapp as app\n"
     ]
    }
   ],
   "source": [
    "for i in range(100):\n",
    "    xxx = list(np.random.random_integers(1, 100, 10))\n",
    "    if sol_select(xxx, 5) == select(xxx, 5):\n",
    "        # print(xxx)\n",
    "        pass"
   ]
  },
  {
   "cell_type": "code",
   "execution_count": 162,
   "metadata": {
    "collapsed": false
   },
   "outputs": [
    {
     "name": "stdout",
     "output_type": "stream",
     "text": [
      "33\n",
      "[1, 2, 4, 12, 29, 33, 48, 58, 76, 80]\n",
      "43\n",
      "[25, 26, 27, 28, 42, 43, 43, 63, 76, 93]\n",
      "56\n",
      "[3, 10, 30, 53, 55, 56, 66, 73, 74, 80]\n",
      "48\n",
      "[4, 4, 9, 25, 31, 48, 57, 76, 88, 92]\n",
      "59\n",
      "[4, 14, 14, 17, 52, 59, 67, 71, 80, 98]\n",
      "43\n",
      "[5, 8, 15, 25, 30, 43, 56, 61, 80, 91]\n",
      "51\n",
      "[4, 13, 22, 27, 31, 51, 53, 57, 79, 99]\n",
      "55\n",
      "[11, 12, 19, 38, 51, 55, 64, 72, 88, 97]\n",
      "46\n",
      "[2, 18, 25, 39, 39, 46, 54, 62, 96, 99]\n",
      "62\n",
      "[18, 32, 41, 48, 59, 62, 63, 64, 76, 80]\n",
      "63\n",
      "[2, 21, 22, 34, 53, 63, 76, 81, 84, 90]\n",
      "58\n",
      "[1, 3, 6, 30, 44, 58, 64, 79, 90, 94]\n",
      "80\n",
      "[7, 13, 18, 52, 70, 80, 83, 89, 91, 96]\n",
      "82\n",
      "[2, 5, 28, 61, 77, 82, 85, 85, 91, 97]\n",
      "58\n",
      "[9, 38, 40, 55, 57, 58, 71, 80, 85, 90]\n",
      "69\n",
      "[1, 20, 33, 33, 34, 69, 76, 87, 95, 100]\n",
      "48\n",
      "[14, 20, 21, 42, 46, 48, 51, 59, 68, 76]\n",
      "57\n",
      "[3, 12, 18, 20, 39, 57, 69, 80, 91, 95]\n",
      "45\n",
      "[5, 8, 11, 36, 43, 45, 50, 55, 67, 76]\n",
      "59\n",
      "[11, 14, 27, 32, 43, 59, 60, 68, 77, 92]\n",
      "54\n",
      "[22, 25, 26, 52, 53, 54, 64, 75, 87, 91]\n",
      "84\n",
      "[20, 52, 65, 73, 79, 84, 92, 92, 94, 99]\n",
      "51\n",
      "[4, 7, 38, 46, 49, 51, 60, 85, 91, 98]\n",
      "46\n",
      "[16, 23, 23, 41, 42, 46, 48, 52, 66, 73]\n",
      "32\n",
      "[9, 19, 20, 27, 30, 32, 47, 54, 61, 92]\n",
      "68\n",
      "[9, 10, 12, 35, 63, 68, 70, 73, 81, 87]\n",
      "58\n",
      "[21, 24, 25, 30, 46, 58, 59, 64, 70, 92]\n",
      "50\n",
      "[20, 20, 33, 42, 42, 50, 57, 62, 87, 96]\n",
      "62\n",
      "[7, 14, 23, 42, 51, 62, 68, 90, 93, 93]\n",
      "61\n",
      "[10, 11, 21, 54, 54, 61, 62, 65, 75, 98]\n",
      "91\n",
      "[5, 16, 81, 82, 88, 91, 95, 96, 99, 100]\n",
      "59\n",
      "[32, 32, 42, 45, 56, 59, 67, 79, 86, 93]\n",
      "45\n",
      "[5, 13, 18, 22, 37, 45, 55, 64, 70, 90]\n",
      "52\n",
      "[6, 7, 9, 37, 44, 52, 58, 59, 70, 89]\n",
      "52\n",
      "[6, 20, 41, 42, 49, 52, 53, 60, 63, 79]\n",
      "41\n",
      "[2, 3, 8, 32, 39, 41, 44, 57, 86, 92]\n",
      "54\n",
      "[7, 14, 16, 32, 54, 54, 63, 63, 72, 83]\n",
      "45\n",
      "[7, 14, 17, 27, 40, 45, 73, 75, 90, 98]\n",
      "67\n",
      "[15, 23, 25, 49, 57, 67, 90, 91, 94, 95]\n",
      "33\n",
      "[1, 7, 8, 10, 16, 33, 75, 80, 84, 90]\n",
      "88\n",
      "[14, 61, 63, 77, 87, 88, 91, 95, 96, 100]\n",
      "54\n",
      "[3, 8, 10, 30, 43, 54, 56, 72, 75, 85]\n",
      "53\n",
      "[22, 27, 39, 40, 44, 53, 57, 60, 93, 94]\n",
      "70\n",
      "[2, 27, 45, 47, 55, 70, 72, 73, 80, 89]\n",
      "58\n",
      "[11, 23, 28, 29, 35, 58, 71, 75, 91, 99]\n",
      "51\n",
      "[18, 22, 26, 32, 34, 51, 58, 64, 73, 77]\n",
      "50\n",
      "[14, 25, 40, 47, 50, 50, 53, 86, 97, 100]\n",
      "44\n",
      "[13, 13, 27, 34, 43, 44, 46, 81, 89, 95]\n",
      "28\n",
      "[4, 11, 12, 16, 22, 28, 42, 56, 74, 80]\n",
      "47\n",
      "[3, 18, 23, 42, 43, 47, 55, 89, 92, 92]\n",
      "62\n",
      "[13, 19, 38, 46, 60, 62, 76, 77, 78, 91]\n",
      "49\n",
      "[1, 9, 10, 18, 18, 49, 55, 64, 75, 89]\n",
      "32\n",
      "[1, 2, 6, 17, 23, 32, 34, 37, 41, 48]\n",
      "57\n",
      "[16, 34, 44, 50, 51, 57, 77, 84, 96, 99]\n",
      "80\n",
      "[43, 43, 57, 57, 63, 80, 84, 87, 97, 99]\n",
      "60\n",
      "[7, 17, 27, 47, 54, 60, 81, 82, 87, 94]\n",
      "45\n",
      "[1, 4, 16, 22, 22, 45, 54, 70, 74, 95]\n",
      "70\n",
      "[1, 4, 6, 29, 45, 70, 74, 83, 85, 95]\n",
      "55\n",
      "[8, 14, 31, 47, 49, 55, 77, 81, 93, 100]\n",
      "51\n",
      "[7, 28, 30, 33, 45, 51, 59, 61, 80, 81]\n",
      "59\n",
      "[16, 16, 34, 35, 45, 59, 74, 75, 84, 98]\n",
      "67\n",
      "[15, 19, 28, 52, 53, 67, 80, 88, 90, 100]\n",
      "48\n",
      "[4, 12, 36, 38, 42, 48, 52, 77, 80, 98]\n",
      "47\n",
      "[3, 9, 19, 29, 38, 47, 58, 76, 93, 94]\n",
      "51\n",
      "[2, 8, 39, 46, 49, 51, 80, 91, 96, 99]\n",
      "45\n",
      "[21, 25, 35, 43, 44, 45, 81, 87, 94, 100]\n",
      "41\n",
      "[1, 2, 18, 29, 33, 41, 43, 55, 58, 88]\n",
      "36\n",
      "[7, 20, 21, 27, 30, 36, 48, 67, 85, 94]\n",
      "32\n",
      "[10, 13, 18, 24, 30, 32, 43, 54, 57, 80]\n",
      "52\n",
      "[13, 27, 32, 42, 43, 52, 53, 66, 96, 97]\n",
      "39\n",
      "[6, 10, 18, 34, 39, 39, 51, 84, 85, 88]\n",
      "52\n",
      "[3, 15, 38, 41, 45, 52, 56, 83, 83, 87]\n",
      "45\n",
      "[8, 11, 20, 21, 40, 45, 46, 61, 63, 88]\n",
      "49\n",
      "[8, 14, 31, 36, 42, 49, 49, 69, 87, 97]\n",
      "53\n",
      "[5, 7, 30, 32, 33, 53, 69, 73, 93, 100]\n",
      "53\n",
      "[4, 4, 13, 31, 34, 53, 61, 65, 66, 83]\n",
      "78\n",
      "[17, 17, 31, 60, 67, 78, 81, 86, 90, 93]\n",
      "56\n",
      "[2, 17, 39, 41, 54, 56, 57, 61, 95, 96]\n",
      "61\n",
      "[4, 36, 42, 44, 56, 61, 63, 73, 78, 96]\n",
      "41\n",
      "[18, 18, 25, 26, 36, 41, 51, 70, 90, 92]\n",
      "31\n",
      "[9, 20, 23, 24, 26, 31, 38, 65, 78, 97]\n",
      "62\n",
      "[20, 31, 33, 49, 54, 62, 70, 88, 97, 100]\n",
      "44\n",
      "[11, 23, 30, 39, 42, 44, 46, 57, 74, 84]\n",
      "49\n",
      "[11, 35, 41, 42, 42, 49, 53, 61, 91, 95]\n",
      "46\n",
      "[11, 17, 19, 25, 39, 46, 61, 66, 88, 95]\n",
      "55\n",
      "[3, 5, 24, 32, 48, 55, 62, 65, 68, 90]\n",
      "56\n",
      "[29, 29, 34, 44, 47, 56, 67, 76, 88, 96]\n",
      "47\n",
      "[6, 23, 31, 38, 38, 47, 60, 63, 70, 99]\n",
      "52\n",
      "[13, 16, 19, 35, 50, 52, 61, 70, 88, 91]\n",
      "62\n",
      "[6, 18, 39, 41, 53, 62, 69, 71, 83, 89]\n",
      "40\n",
      "[5, 6, 21, 29, 30, 40, 51, 54, 56, 71]\n",
      "70\n",
      "[5, 31, 37, 49, 51, 70, 76, 86, 89, 98]\n",
      "55\n",
      "[4, 11, 35, 44, 46, 55, 75, 79, 91, 96]\n",
      "69\n",
      "[1, 1, 13, 29, 39, 69, 73, 77, 81, 96]\n",
      "78\n",
      "[27, 34, 37, 43, 57, 78, 78, 81, 82, 88]\n",
      "64\n",
      "[9, 15, 29, 35, 61, 64, 70, 90, 93, 93]\n",
      "71\n",
      "[6, 26, 47, 52, 67, 71, 73, 73, 76, 90]\n",
      "53\n",
      "[7, 17, 38, 41, 47, 53, 63, 72, 73, 82]\n",
      "62\n",
      "[17, 17, 34, 37, 62, 62, 66, 90, 90, 100]\n",
      "66\n",
      "[6, 23, 26, 36, 64, 66, 80, 83, 94, 97]\n"
     ]
    },
    {
     "name": "stderr",
     "output_type": "stream",
     "text": [
      "C:\\ProgramData\\Anaconda3\\lib\\site-packages\\ipykernel\\__main__.py:2: DeprecationWarning: This function is deprecated. Please call randint(1, 100 + 1) instead\n",
      "  from ipykernel import kernelapp as app\n"
     ]
    }
   ],
   "source": [
    "for i in range(100):\n",
    "    xxx = list(np.random.random_integers(1, 100, 10))\n",
    "    try:\n",
    "        assert(sol_select(xxx, 5) == select(xxx, 5))\n",
    "    except AssertionError:\n",
    "        print(xxx)\n",
    "        # print(sol_select(xxx, 5), select(xxx, 5))"
   ]
  },
  {
   "cell_type": "code",
   "execution_count": null,
   "metadata": {
    "collapsed": true
   },
   "outputs": [],
   "source": []
  },
  {
   "cell_type": "code",
   "execution_count": 138,
   "metadata": {
    "collapsed": false
   },
   "outputs": [
    {
     "ename": "AssertionError",
     "evalue": "",
     "output_type": "error",
     "traceback": [
      "\u001b[0;31m---------------------------------------------------------------------------\u001b[0m",
      "\u001b[0;31mAssertionError\u001b[0m                            Traceback (most recent call last)",
      "\u001b[0;32m<ipython-input-138-68c9e0b2d412>\u001b[0m in \u001b[0;36m<module>\u001b[0;34m()\u001b[0m\n\u001b[0;32m----> 1\u001b[0;31m \u001b[1;32massert\u001b[0m\u001b[1;33m(\u001b[0m\u001b[1;36m1\u001b[0m \u001b[1;33m==\u001b[0m \u001b[1;36m10\u001b[0m\u001b[1;33m)\u001b[0m\u001b[1;33m\u001b[0m\u001b[0m\n\u001b[0m",
      "\u001b[0;31mAssertionError\u001b[0m: "
     ]
    }
   ],
   "source": [
    "assert(1 == 10)"
   ]
  },
  {
   "cell_type": "code",
   "execution_count": 55,
   "metadata": {
    "collapsed": false
   },
   "outputs": [
    {
     "data": {
      "text/plain": [
       "([31, 48, 73, 20, 29, 65], [3, 11, 8, 15])"
      ]
     },
     "execution_count": 55,
     "metadata": {},
     "output_type": "execute_result"
    }
   ],
   "source": [
    "[3, 11, 8, 15, 31, 48, 73, 20, 29, 65][4:], [3, 11, 8, 15, 31, 48, 73, 20, 29, 65][:4]"
   ]
  },
  {
   "cell_type": "code",
   "execution_count": 68,
   "metadata": {
    "collapsed": false
   },
   "outputs": [
    {
     "name": "stdout",
     "output_type": "stream",
     "text": [
      "<built-in method sort of list object at 0x00000226C82DFEC8>\n"
     ]
    }
   ],
   "source": [
    "print([3, 11, 8, 15, 31, 48, 73, 20, 29, 65].sort)"
   ]
  },
  {
   "cell_type": "code",
   "execution_count": 58,
   "metadata": {
    "collapsed": false
   },
   "outputs": [
    {
     "data": {
      "text/plain": [
       "[48]"
      ]
     },
     "execution_count": 58,
     "metadata": {},
     "output_type": "execute_result"
    }
   ],
   "source": [
    "[20, 29, 31, 48][3:]"
   ]
  },
  {
   "cell_type": "code",
   "execution_count": 125,
   "metadata": {
    "collapsed": false
   },
   "outputs": [
    {
     "data": {
      "text/plain": [
       "31"
      ]
     },
     "execution_count": 125,
     "metadata": {},
     "output_type": "execute_result"
    }
   ],
   "source": [
    "sol_select([31, 8, 48, 73, 11, 3, 20, 29, 65, 15], 6)"
   ]
  },
  {
   "cell_type": "code",
   "execution_count": 126,
   "metadata": {
    "collapsed": false
   },
   "outputs": [
    {
     "name": "stdout",
     "output_type": "stream",
     "text": [
      "i: 6 lst: [31, 8, 48, 73, 11, 3, 20, 29, 65, 15] changed_lst: [3, 11, 8, 15, 31, 48, 73, 20, 29, 65] comparison_idx: 3\n",
      "i: 2 lst: [31, 48, 73, 20, 29, 65] changed_lst: [29, 20, 48, 31, 65, 73] comparison_idx: 4\n",
      "i: 2 lst: [29, 20, 48, 31] changed_lst: [20, 29, 31, 48] comparison_idx: 2\n",
      "31\n"
     ]
    }
   ],
   "source": [
    "select([31, 8, 48, 73, 11, 3, 20, 29, 65, 15], 6)"
   ]
  },
  {
   "cell_type": "code",
   "execution_count": 122,
   "metadata": {
    "collapsed": false
   },
   "outputs": [
    {
     "name": "stdout",
     "output_type": "stream",
     "text": [
      "i: 4 lst: [27, 8, 55, 4, 32, 1, 5] changed_lst: [1, 4, 5, 27, 8, 55, 32] comparison_idx: 2\n",
      "i: 1 lst: [27, 8, 55, 32] changed_lst: [8, 27, 32, 55] comparison_idx: 2\n",
      "i: 1 lst: [8, 27] changed_lst: [8, 27] comparison_idx: 1\n",
      "27\n"
     ]
    }
   ],
   "source": [
    "select([27, 8, 55, 4, 32, 1, 5], 4)"
   ]
  },
  {
   "cell_type": "code",
   "execution_count": 123,
   "metadata": {
    "collapsed": false
   },
   "outputs": [
    {
     "name": "stdout",
     "output_type": "stream",
     "text": [
      "[1, 4, 5, 8, 27, 32, 55]\n"
     ]
    }
   ],
   "source": [
    "dddd = [27, 8, 55, 4, 32, 1, 5]\n",
    "dddd.sort()\n",
    "print(dddd)"
   ]
  },
  {
   "cell_type": "code",
   "execution_count": 124,
   "metadata": {
    "collapsed": false
   },
   "outputs": [
    {
     "data": {
      "text/plain": [
       "27"
      ]
     },
     "execution_count": 124,
     "metadata": {},
     "output_type": "execute_result"
    }
   ],
   "source": [
    "sol_select([27, 8, 55, 4, 32, 1, 5], 4)"
   ]
  },
  {
   "cell_type": "code",
   "execution_count": 86,
   "metadata": {
    "collapsed": false
   },
   "outputs": [
    {
     "data": {
      "text/plain": [
       "4"
      ]
     },
     "execution_count": 86,
     "metadata": {},
     "output_type": "execute_result"
    }
   ],
   "source": [
    "sol_select([2, 4, 6, 7, 4, 1], 2)"
   ]
  },
  {
   "cell_type": "code",
   "execution_count": 85,
   "metadata": {
    "collapsed": false,
    "scrolled": true
   },
   "outputs": [
    {
     "name": "stdout",
     "output_type": "stream",
     "text": [
      "i: 2 lst: [2, 4, 6, 7, 4, 1] changed_lst: [1, 2, 4, 6, 7, 4] comparison_idx: 0\n",
      "i: 2 lst: [2, 4, 6, 7, 4] changed_lst: [2, 4, 4, 6, 7] comparison_idx: 1\n",
      "i: 1 lst: [4, 6, 7] changed_lst: [6, 4, 7] comparison_idx: 2\n",
      "i: 0 lst: [6, 4] changed_lst: [4, 6] comparison_idx: 0\n",
      "4\n"
     ]
    }
   ],
   "source": [
    "select([2, 4, 6, 7, 4, 1], 2)"
   ]
  },
  {
   "cell_type": "code",
   "execution_count": 136,
   "metadata": {
    "collapsed": false
   },
   "outputs": [
    {
     "data": {
      "text/plain": [
       "[0.55297042598048929,\n",
       " 0.0024641435354035846,\n",
       " 0.65953962966456414,\n",
       " 0.57717933334437888,\n",
       " 0.68772525732486389,\n",
       " 0.98154781337554731,\n",
       " 0.54443060581713942,\n",
       " 0.0094365850304525267,\n",
       " 0.50890437186317905,\n",
       " 0.23457246770336715]"
      ]
     },
     "execution_count": 136,
     "metadata": {},
     "output_type": "execute_result"
    }
   ],
   "source": [
    "list(np.random.rand(10))"
   ]
  },
  {
   "cell_type": "code",
   "execution_count": 131,
   "metadata": {
    "collapsed": false
   },
   "outputs": [
    {
     "data": {
      "text/plain": [
       "99"
      ]
     },
     "execution_count": 131,
     "metadata": {},
     "output_type": "execute_result"
    }
   ],
   "source": [
    "random.randrange(100)"
   ]
  },
  {
   "cell_type": "code",
   "execution_count": 53,
   "metadata": {
    "collapsed": false
   },
   "outputs": [
    {
     "data": {
      "text/plain": [
       "([29, 20, 48, 31, 65, 73], 4)"
      ]
     },
     "execution_count": 53,
     "metadata": {},
     "output_type": "execute_result"
    }
   ],
   "source": [
    "partition([31, 48, 73, 20, 29, 65])"
   ]
  },
  {
   "cell_type": "code",
   "execution_count": 9,
   "metadata": {
    "collapsed": true
   },
   "outputs": [],
   "source": [
    "[2, 4, 6, 7, 4, 1].insert(0, 2)"
   ]
  },
  {
   "cell_type": "code",
   "execution_count": 12,
   "metadata": {
    "collapsed": true
   },
   "outputs": [],
   "source": [
    "aa = [2, 4, 6, 7, 4, 1]"
   ]
  },
  {
   "cell_type": "code",
   "execution_count": 2,
   "metadata": {
    "collapsed": false
   },
   "outputs": [
    {
     "data": {
      "text/plain": [
       "6"
      ]
     },
     "execution_count": 2,
     "metadata": {},
     "output_type": "execute_result"
    }
   ],
   "source": [
    "len(aa)"
   ]
  },
  {
   "cell_type": "code",
   "execution_count": 8,
   "metadata": {
    "collapsed": false
   },
   "outputs": [
    {
     "name": "stdout",
     "output_type": "stream",
     "text": [
      "0\n",
      "1\n",
      "2\n",
      "3\n",
      "4\n"
     ]
    }
   ],
   "source": [
    "for i in range(len(aa) -1):\n",
    "    print(i)"
   ]
  },
  {
   "cell_type": "code",
   "execution_count": 6,
   "metadata": {
    "collapsed": false
   },
   "outputs": [
    {
     "name": "stdout",
     "output_type": "stream",
     "text": [
      "6\n",
      "5\n",
      "4\n",
      "3\n",
      "2\n",
      "1\n"
     ]
    }
   ],
   "source": [
    "for i in range(len(aa), 0, -1):\n",
    "    print(i)"
   ]
  },
  {
   "cell_type": "code",
   "execution_count": 127,
   "metadata": {
    "collapsed": true
   },
   "outputs": [],
   "source": [
    "import random"
   ]
  },
  {
   "cell_type": "code",
   "execution_count": null,
   "metadata": {
    "collapsed": true
   },
   "outputs": [],
   "source": []
  },
  {
   "cell_type": "code",
   "execution_count": 73,
   "metadata": {
    "collapsed": true
   },
   "outputs": [],
   "source": [
    "ddd = [31, 8, 48, 73, 11, 3, 20, 29, 65, 15]"
   ]
  },
  {
   "cell_type": "code",
   "execution_count": 74,
   "metadata": {
    "collapsed": false
   },
   "outputs": [],
   "source": [
    "ddd.sort()"
   ]
  },
  {
   "cell_type": "code",
   "execution_count": 75,
   "metadata": {
    "collapsed": false
   },
   "outputs": [
    {
     "data": {
      "text/plain": [
       "[3, 8, 11, 15, 20, 29, 31, 48, 65, 73]"
      ]
     },
     "execution_count": 75,
     "metadata": {},
     "output_type": "execute_result"
    }
   ],
   "source": [
    "ddd"
   ]
  },
  {
   "cell_type": "code",
   "execution_count": null,
   "metadata": {
    "collapsed": true
   },
   "outputs": [],
   "source": []
  },
  {
   "cell_type": "code",
   "execution_count": null,
   "metadata": {
    "collapsed": true
   },
   "outputs": [],
   "source": []
  },
  {
   "cell_type": "code",
   "execution_count": null,
   "metadata": {
    "collapsed": true
   },
   "outputs": [],
   "source": []
  },
  {
   "cell_type": "code",
   "execution_count": null,
   "metadata": {
    "collapsed": true
   },
   "outputs": [],
   "source": []
  }
 ],
 "metadata": {
  "kernelspec": {
   "display_name": "Python 3",
   "language": "python",
   "name": "python3"
  },
  "language_info": {
   "codemirror_mode": {
    "name": "ipython",
    "version": 3
   },
   "file_extension": ".py",
   "mimetype": "text/x-python",
   "name": "python",
   "nbconvert_exporter": "python",
   "pygments_lexer": "ipython3",
   "version": "3.6.0"
  }
 },
 "nbformat": 4,
 "nbformat_minor": 2
}
