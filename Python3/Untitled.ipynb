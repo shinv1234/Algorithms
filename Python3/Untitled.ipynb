{
 "cells": [
  {
   "cell_type": "code",
   "execution_count": 14,
   "metadata": {
    "collapsed": false
   },
   "outputs": [],
   "source": [
    "topological_graph = {\n",
    "    0: [1],\n",
    "    1: [3, 4, 5],\n",
    "    2: [3, 4],\n",
    "    3: [5],\n",
    "    4: [5],\n",
    "    5: []\n",
    "}"
   ]
  },
  {
   "cell_type": "code",
   "execution_count": 39,
   "metadata": {
    "collapsed": false
   },
   "outputs": [
    {
     "data": {
      "text/plain": [
       "collections.deque"
      ]
     },
     "execution_count": 39,
     "metadata": {},
     "output_type": "execute_result"
    }
   ],
   "source": [
    "type(deque())"
   ]
  },
  {
   "cell_type": "code",
   "execution_count": 36,
   "metadata": {
    "collapsed": true
   },
   "outputs": [],
   "source": [
    "from collections import deque\n",
    " \n",
    "\n",
    "def kahn_topsort(graph):\n",
    "    in_degree = { u : 0 for u in graph }     # determine in-degree \n",
    "    for u in graph:                          # of each node\n",
    "        for v in graph[u]:\n",
    "            in_degree[v] += 1\n",
    " \n",
    "    Q = deque()                 # collect nodes with zero in-degree\n",
    "    for u in in_degree:\n",
    "        if in_degree[u] == 0:\n",
    "            Q.appendleft(u)\n",
    " \n",
    "    L = []     # list for order of nodes\n",
    "     \n",
    "    while Q:                \n",
    "        u = Q.pop()          # choose node of zero in-degree\n",
    "        L.append(u)          # and 'remove' it from graph\n",
    "        for v in graph[u]:\n",
    "            in_degree[v] -= 1\n",
    "            if in_degree[v] == 0:\n",
    "                Q.appendleft(v)\n",
    " \n",
    "    if len(L) == len(graph):\n",
    "        return L\n",
    "    else:                    # if there is a cycle,  \n",
    "        return []            # then return an empty list"
   ]
  },
  {
   "cell_type": "code",
   "execution_count": 37,
   "metadata": {
    "collapsed": false
   },
   "outputs": [
    {
     "data": {
      "text/plain": [
       "[0, 2, 1, 3, 4, 5]"
      ]
     },
     "execution_count": 37,
     "metadata": {},
     "output_type": "execute_result"
    }
   ],
   "source": [
    "kahn_topsort(topological_graph)"
   ]
  },
  {
   "cell_type": "code",
   "execution_count": 38,
   "metadata": {
    "collapsed": false
   },
   "outputs": [
    {
     "data": {
      "text/plain": [
       "[0, 2, 1, 3, 4, 5]"
      ]
     },
     "execution_count": 38,
     "metadata": {},
     "output_type": "execute_result"
    }
   ],
   "source": [
    "kahn_topsort(topological_graph)"
   ]
  },
  {
   "cell_type": "code",
   "execution_count": 46,
   "metadata": {
    "collapsed": false
   },
   "outputs": [],
   "source": [
    "dfs_graph = {\n",
    "    0: [1, 5, 7],\n",
    "    1: [0, 2, 5],\n",
    "    2: [1, 3, 4],\n",
    "    3: [2, 4],\n",
    "    4: [2, 3],\n",
    "    5: [0, 1, 6, 7],\n",
    "    6: [5],\n",
    "    7: [0, 5]\n",
    "}\n",
    "\n",
    "# Depth-First Search\n",
    "def next_depth(graph, visited, vertex):\n",
    "    visited[vertex] = 1\n",
    "    print('vertex:', vertex, 'visited:', visited)\n",
    "    for near_vertex in graph[vertex]:\n",
    "        print('near_vertexs:', graph[vertex])\n",
    "        if visited[near_vertex] == 0:\n",
    "            next_depth(graph, visited, near_vertex)\n",
    "\n",
    "def dfs4dict(graph, start):\n",
    "    visited = dict() \n",
    "    for keys in graph.keys():\n",
    "        visited[keys] = 0\n",
    "    for vertex in graph.keys():\n",
    "        if visited[vertex] == 0:\n",
    "            next_depth(graph, visited, vertex)\n",
    "    return visited"
   ]
  },
  {
   "cell_type": "code",
   "execution_count": 47,
   "metadata": {
    "collapsed": false
   },
   "outputs": [
    {
     "name": "stdout",
     "output_type": "stream",
     "text": [
      "vertex: 0 visited: {0: 1, 1: 0, 2: 0, 3: 0, 4: 0, 5: 0, 6: 0, 7: 0}\n",
      "near_vertexs: [1, 5, 7]\n",
      "vertex: 1 visited: {0: 1, 1: 1, 2: 0, 3: 0, 4: 0, 5: 0, 6: 0, 7: 0}\n",
      "near_vertexs: [0, 2, 5]\n",
      "near_vertexs: [0, 2, 5]\n",
      "vertex: 2 visited: {0: 1, 1: 1, 2: 1, 3: 0, 4: 0, 5: 0, 6: 0, 7: 0}\n",
      "near_vertexs: [1, 3, 4]\n",
      "near_vertexs: [1, 3, 4]\n",
      "vertex: 3 visited: {0: 1, 1: 1, 2: 1, 3: 1, 4: 0, 5: 0, 6: 0, 7: 0}\n",
      "near_vertexs: [2, 4]\n",
      "near_vertexs: [2, 4]\n",
      "vertex: 4 visited: {0: 1, 1: 1, 2: 1, 3: 1, 4: 1, 5: 0, 6: 0, 7: 0}\n",
      "near_vertexs: [2, 3]\n",
      "near_vertexs: [2, 3]\n",
      "near_vertexs: [1, 3, 4]\n",
      "near_vertexs: [0, 2, 5]\n",
      "vertex: 5 visited: {0: 1, 1: 1, 2: 1, 3: 1, 4: 1, 5: 1, 6: 0, 7: 0}\n",
      "near_vertexs: [0, 1, 6, 7]\n",
      "near_vertexs: [0, 1, 6, 7]\n",
      "near_vertexs: [0, 1, 6, 7]\n",
      "vertex: 6 visited: {0: 1, 1: 1, 2: 1, 3: 1, 4: 1, 5: 1, 6: 1, 7: 0}\n",
      "near_vertexs: [5]\n",
      "near_vertexs: [0, 1, 6, 7]\n",
      "vertex: 7 visited: {0: 1, 1: 1, 2: 1, 3: 1, 4: 1, 5: 1, 6: 1, 7: 1}\n",
      "near_vertexs: [0, 5]\n",
      "near_vertexs: [0, 5]\n",
      "near_vertexs: [1, 5, 7]\n",
      "near_vertexs: [1, 5, 7]\n"
     ]
    },
    {
     "data": {
      "text/plain": [
       "{0: 1, 1: 1, 2: 1, 3: 1, 4: 1, 5: 1, 6: 1, 7: 1}"
      ]
     },
     "execution_count": 47,
     "metadata": {},
     "output_type": "execute_result"
    }
   ],
   "source": [
    "dfs4dict(dfs_graph, 0)"
   ]
  },
  {
   "cell_type": "code",
   "execution_count": null,
   "metadata": {
    "collapsed": true
   },
   "outputs": [],
   "source": []
  },
  {
   "cell_type": "code",
   "execution_count": null,
   "metadata": {
    "collapsed": true
   },
   "outputs": [],
   "source": []
  },
  {
   "cell_type": "code",
   "execution_count": null,
   "metadata": {
    "collapsed": true
   },
   "outputs": [],
   "source": []
  },
  {
   "cell_type": "code",
   "execution_count": 17,
   "metadata": {
    "collapsed": true
   },
   "outputs": [],
   "source": [
    "def dict2ve(graph):\n",
    "    ve_list = []\n",
    "    for i in graph:\n",
    "        for j in graph[i]:\n",
    "            ve_list.append([i, j])\n",
    "    return ve_list"
   ]
  },
  {
   "cell_type": "code",
   "execution_count": 18,
   "metadata": {
    "collapsed": false
   },
   "outputs": [
    {
     "data": {
      "text/plain": [
       "[[0, 1], [1, 3], [1, 4], [1, 5], [2, 3], [2, 4], [3, 5], [4, 5]]"
      ]
     },
     "execution_count": 18,
     "metadata": {},
     "output_type": "execute_result"
    }
   ],
   "source": [
    "dict2ve(topological_graph)"
   ]
  },
  {
   "cell_type": "code",
   "execution_count": 31,
   "metadata": {
    "collapsed": false
   },
   "outputs": [],
   "source": [
    "ccc = [[0, 1], [1, 3], [1, 4], [1, 5], [2, 3], [2, 4], [3, 5], [4, 5]]"
   ]
  },
  {
   "cell_type": "code",
   "execution_count": 33,
   "metadata": {
    "collapsed": false
   },
   "outputs": [
    {
     "data": {
      "text/plain": [
       "[0, 1, 1, 1, 2, 2, 3, 4]"
      ]
     },
     "execution_count": 33,
     "metadata": {},
     "output_type": "execute_result"
    }
   ],
   "source": [
    "[i[0] for i in ccc]"
   ]
  },
  {
   "cell_type": "code",
   "execution_count": 35,
   "metadata": {
    "collapsed": false
   },
   "outputs": [
    {
     "data": {
      "text/plain": [
       "[0, 1, 2, 3, 4]"
      ]
     },
     "execution_count": 35,
     "metadata": {},
     "output_type": "execute_result"
    }
   ],
   "source": [
    "list(set([i[0] for i in ccc]))"
   ]
  },
  {
   "cell_type": "code",
   "execution_count": null,
   "metadata": {
    "collapsed": true
   },
   "outputs": [],
   "source": []
  },
  {
   "cell_type": "code",
   "execution_count": 30,
   "metadata": {
    "collapsed": false
   },
   "outputs": [],
   "source": [
    "def check_only_input(ve_list):\n",
    "    v_list = list(set([i[0] for i in ccc]))\n",
    "        \n",
    "    return 1"
   ]
  },
  {
   "cell_type": "code",
   "execution_count": null,
   "metadata": {
    "collapsed": true
   },
   "outputs": [],
   "source": []
  },
  {
   "cell_type": "code",
   "execution_count": 19,
   "metadata": {
    "collapsed": true
   },
   "outputs": [],
   "source": [
    "def topological_sort(graph):\n",
    "    ve_list = dict2ve(graph)\n",
    "    for i in ve_list:\n",
    "        \n",
    "    return 1"
   ]
  },
  {
   "cell_type": "code",
   "execution_count": 21,
   "metadata": {
    "collapsed": true
   },
   "outputs": [],
   "source": [
    "dd = dict()"
   ]
  },
  {
   "cell_type": "code",
   "execution_count": 22,
   "metadata": {
    "collapsed": true
   },
   "outputs": [],
   "source": [
    "dd[0] = 1"
   ]
  },
  {
   "cell_type": "code",
   "execution_count": 23,
   "metadata": {
    "collapsed": false
   },
   "outputs": [
    {
     "data": {
      "text/plain": [
       "{0: 1}"
      ]
     },
     "execution_count": 23,
     "metadata": {},
     "output_type": "execute_result"
    }
   ],
   "source": [
    "dd"
   ]
  },
  {
   "cell_type": "code",
   "execution_count": null,
   "metadata": {
    "collapsed": true
   },
   "outputs": [],
   "source": []
  },
  {
   "cell_type": "code",
   "execution_count": 26,
   "metadata": {
    "collapsed": false
   },
   "outputs": [
    {
     "data": {
      "text/plain": [
       "{'A', 'a'}"
      ]
     },
     "execution_count": 26,
     "metadata": {},
     "output_type": "execute_result"
    }
   ],
   "source": [
    "set(['a', 'A'])"
   ]
  },
  {
   "cell_type": "code",
   "execution_count": null,
   "metadata": {
    "collapsed": true
   },
   "outputs": [],
   "source": []
  },
  {
   "cell_type": "code",
   "execution_count": null,
   "metadata": {
    "collapsed": true
   },
   "outputs": [],
   "source": []
  },
  {
   "cell_type": "code",
   "execution_count": null,
   "metadata": {
    "collapsed": true
   },
   "outputs": [],
   "source": []
  },
  {
   "cell_type": "code",
   "execution_count": null,
   "metadata": {
    "collapsed": true
   },
   "outputs": [],
   "source": []
  },
  {
   "cell_type": "code",
   "execution_count": null,
   "metadata": {
    "collapsed": true
   },
   "outputs": [],
   "source": []
  },
  {
   "cell_type": "code",
   "execution_count": null,
   "metadata": {
    "collapsed": true
   },
   "outputs": [],
   "source": []
  },
  {
   "cell_type": "code",
   "execution_count": null,
   "metadata": {
    "collapsed": true
   },
   "outputs": [],
   "source": []
  },
  {
   "cell_type": "code",
   "execution_count": null,
   "metadata": {
    "collapsed": true
   },
   "outputs": [],
   "source": []
  },
  {
   "cell_type": "code",
   "execution_count": null,
   "metadata": {
    "collapsed": true
   },
   "outputs": [],
   "source": []
  },
  {
   "cell_type": "code",
   "execution_count": null,
   "metadata": {
    "collapsed": true
   },
   "outputs": [],
   "source": [
    "''' \n",
    "dfs(graph, vertex id, visited[], stack){\n",
    "\t해당 vertex를 방문한 것으로 check\n",
    "\t모든 인접 vertex를 순회하며 {\n",
    "\t\tif(인접 vertext가 방문한 적이 없다면){\n",
    "\t\t\tdfs(graph, 인접 vertex의 id, visited, stack);\n",
    "\t\t}\n",
    "\t}\n",
    "\tstack에 vertex를 푸쉬한다.\n",
    "}\n",
    "topological_sort(graph){\n",
    "\t자료 구조 초기화: graph, visited[], stack\n",
    "\tgraph내의 모든 vertex에 대해 {\n",
    "\t\tdfs(graph, vertex id, visited, stack)\n",
    "\t\t방문한 vertex 숫자가 graph의 vertex 숫자와 일치하면 loop을 멈춤\n",
    "\t}\n",
    "\tstack에서 하나씩 push하면서 출력한다. \n",
    "}\n",
    "\n",
    "\n",
    "'''"
   ]
  }
 ],
 "metadata": {
  "kernelspec": {
   "display_name": "Python 3",
   "language": "python",
   "name": "python3"
  },
  "language_info": {
   "codemirror_mode": {
    "name": "ipython",
    "version": 3
   },
   "file_extension": ".py",
   "mimetype": "text/x-python",
   "name": "python",
   "nbconvert_exporter": "python",
   "pygments_lexer": "ipython3",
   "version": "3.6.0"
  }
 },
 "nbformat": 4,
 "nbformat_minor": 2
}
