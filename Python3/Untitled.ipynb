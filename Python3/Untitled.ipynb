{
 "cells": [
  {
   "cell_type": "code",
   "execution_count": 57,
   "metadata": {
    "collapsed": true
   },
   "outputs": [],
   "source": [
    "prim_graph = {\n",
    "    0: {1:8, 2:9, 3:11},\n",
    "    1: {0:8, 4:10},\n",
    "    2: {0:9, 3:13, 4:5, 6:12},\n",
    "    3: {0:11, 2:13, 5:8},\n",
    "    4: {1:10, 2:5},\n",
    "    5: {3:8, 6:7},\n",
    "    6: {2:12, 5:7}\n",
    "}"
   ]
  },
  {
   "cell_type": "code",
   "execution_count": 11,
   "metadata": {
    "collapsed": false
   },
   "outputs": [
    {
     "data": {
      "text/plain": [
       "{0: {1: 8, 2: 9, 3: 11},\n",
       " 1: {1: 8, 4: 10},\n",
       " 2: {0: 9, 3: 13, 4: 5, 6: 12},\n",
       " 3: {0: 11, 2: 13, 5: 8},\n",
       " 4: {1: 10, 2: 5},\n",
       " 5: {3: 8, 6: 7},\n",
       " 6: {2: 12, 5: 7}}"
      ]
     },
     "execution_count": 11,
     "metadata": {},
     "output_type": "execute_result"
    }
   ],
   "source": [
    "prim_graph"
   ]
  },
  {
   "cell_type": "code",
   "execution_count": 11,
   "metadata": {
    "collapsed": false
   },
   "outputs": [
    {
     "data": {
      "text/plain": [
       "{1: 8, 2: 9, 3: 11}"
      ]
     },
     "execution_count": 11,
     "metadata": {},
     "output_type": "execute_result"
    }
   ],
   "source": [
    "prim_graph[0]"
   ]
  },
  {
   "cell_type": "code",
   "execution_count": 17,
   "metadata": {
    "collapsed": false
   },
   "outputs": [
    {
     "data": {
      "text/plain": [
       "[0, 8, 9, 11, inf, inf, inf]"
      ]
     },
     "execution_count": 17,
     "metadata": {},
     "output_type": "execute_result"
    }
   ],
   "source": [
    "[0, 8, 9, 11, float('inf'), float('inf'), float('inf')]"
   ]
  },
  {
   "cell_type": "code",
   "execution_count": 33,
   "metadata": {
    "collapsed": true
   },
   "outputs": [],
   "source": [
    "def extract_min(not_visit_set, cost):\n",
    "    near_cost = [cost[i] for i in not_visit_set]\n",
    "    print('cost:', cost, 'near_cost:', near_cost)\n",
    "    min_value = min(near_cost)\n",
    "    min_value_vertex = near_cost.index(min_value)\n",
    "    print('min_value:', min_value, 'min_value_vertex:', min_value_vertex)\n",
    "    for nv in not_visit_set:\n",
    "        if near_cost[nv] < min_value:\n",
    "            min_value = near_cost[nv]\n",
    "            min_value_vertex = nv\n",
    "    return min_value_vertex"
   ]
  },
  {
   "cell_type": "code",
   "execution_count": 39,
   "metadata": {
    "collapsed": true
   },
   "outputs": [],
   "source": [
    "def extract_min(full_vertexes, visited, cost): # 이거 문제.\n",
    "    for vst in visited:\n",
    "        cost[vst] = float('inf')\n",
    "    print('cost:', cost)\n",
    "    min_value = min(cost)\n",
    "    min_value_vertex = cost.index(min_value)\n",
    "    for nv in full_vertexes:\n",
    "        if cost[nv] < min_value:\n",
    "            min_value = cost[nv]\n",
    "            min_value_vertex = nv\n",
    "    return min_value_vertex"
   ]
  },
  {
   "cell_type": "code",
   "execution_count": 40,
   "metadata": {
    "collapsed": false
   },
   "outputs": [
    {
     "name": "stdout",
     "output_type": "stream",
     "text": [
      "cost: [inf, 8, 9, 11, inf, inf, inf]\n"
     ]
    },
    {
     "data": {
      "text/plain": [
       "1"
      ]
     },
     "execution_count": 40,
     "metadata": {},
     "output_type": "execute_result"
    }
   ],
   "source": [
    "extract_min({i for i in range(7)}, {0} , \n",
    "            [0, 8, 9, 11, float('inf'), float('inf'), float('inf')])"
   ]
  },
  {
   "cell_type": "code",
   "execution_count": 19,
   "metadata": {
    "collapsed": false
   },
   "outputs": [
    {
     "data": {
      "text/plain": [
       "{0, 1, 2, 3, 4, 5, 6}"
      ]
     },
     "execution_count": 19,
     "metadata": {},
     "output_type": "execute_result"
    }
   ],
   "source": [
    "{i for i in range(7)}"
   ]
  },
  {
   "cell_type": "code",
   "execution_count": 24,
   "metadata": {
    "collapsed": false
   },
   "outputs": [
    {
     "data": {
      "text/plain": [
       "{1, 2, 3, 4, 5, 6}"
      ]
     },
     "execution_count": 24,
     "metadata": {},
     "output_type": "execute_result"
    }
   ],
   "source": [
    "{i for i in range(7)} - {0}"
   ]
  },
  {
   "cell_type": "code",
   "execution_count": null,
   "metadata": {
    "collapsed": true
   },
   "outputs": [],
   "source": []
  },
  {
   "cell_type": "code",
   "execution_count": 47,
   "metadata": {
    "collapsed": true
   },
   "outputs": [],
   "source": [
    "def extract_min2(not_visit_set, cost): # 이거 문제.\n",
    "    min_value = min(cost)\n",
    "    min_value_vertex = cost.index(min_value)\n",
    "    for nv in not_visit_set:\n",
    "        if cost[nv] < min_value:\n",
    "            min_value = cost[nv]\n",
    "            min_value_vertex = nv\n",
    "    return min_value_vertex\n",
    "\n",
    "def extract_min(full_vertexes, visited, cost):\n",
    "    for vst in visited:\n",
    "        cost[vst] = float('inf')\n",
    "    print('cost:', cost)\n",
    "    min_value = min(cost)\n",
    "    min_value_vertex = cost.index(min_value)\n",
    "    for nv in full_vertexes:\n",
    "        if cost[nv] < min_value:\n",
    "            min_value = cost[nv]\n",
    "            min_value_vertex = nv\n",
    "    return min_value_vertex\n",
    "\n",
    "def prim4dict(graph, start):\n",
    "    full_vertexes = {i for i in graph.keys()} # 모든 정점(set)\n",
    "    visited = set() # 방문한 정점 목록(set)\n",
    "    cost = [] # 현재 정점에서 주변 정점까지의 연결비용\n",
    "    tree = {} # {정점:연결비용이 가장 적게 드는 이전 정점} 연결비용이 가장 적게 드는 간선을 저장\n",
    "    for key in graph.keys(\n",
    "        cost.append(float('inf')) # 연결비용 초기화\n",
    "    cost[start] = 0 # 시작 정점의 연결비용을 0으로\n",
    "    visited.add(start) # 방문한 정점목록에 시작정점을 입력\n",
    "    while visited != full_vertexes:\n",
    "        near_positions = graph[start] # 현 정점에서 방문 가능한 정점들(dict)\n",
    "        print('near_positions:', near_positions)\n",
    "        for np in near_positions:\n",
    "            cost[np] = near_positions[np] # 현 정점에서 방문 가능한 정점들의 연결비용 갱신\n",
    "        print('cost:', cost)\n",
    "        position = extract_min(full_vertexes, visited, cost)\n",
    "        visited.add(position)\n",
    "        print('position:', position, 'visited:', visited)\n",
    "        print('next_path:', graph[position].keys())\n",
    "        for next_visit in graph[position].keys():\n",
    "            condition1 =  next_visit in (full_vertexes - visited) # \n",
    "            condition2 = graph[position][next_visit] < cost[position]\n",
    "            print('condition1:', condition1, 'condition2:', condition2)\n",
    "            if condition1 and condition2:\n",
    "                cost[next_visit] = graph[position][next_visit]\n",
    "                tree[next_visit] = position\n",
    "            print('tree:', tree, 'visited:', visited)\n",
    "    return tree\n",
    "    "
   ]
  },
  {
   "cell_type": "code",
   "execution_count": 58,
   "metadata": {
    "collapsed": false
   },
   "outputs": [
    {
     "name": "stdout",
     "output_type": "stream",
     "text": [
      "near_positions: {1: 8, 2: 9, 3: 11}\n",
      "cost: [0, 8, 9, 11, inf, inf, inf]\n",
      "cost: [inf, 8, 9, 11, inf, inf, inf]\n",
      "position: 1 visited: {0, 1}\n",
      "next_path: dict_keys([0, 4])\n",
      "condition1: False condition2: False\n",
      "tree: {} visited: {0, 1}\n",
      "condition1: True condition2: False\n",
      "tree: {} visited: {0, 1}\n",
      "near_positions: {1: 8, 2: 9, 3: 11}\n",
      "cost: [inf, 8, 9, 11, inf, inf, inf]\n",
      "cost: [inf, inf, 9, 11, inf, inf, inf]\n",
      "position: 2 visited: {0, 1, 2}\n",
      "next_path: dict_keys([0, 3, 4, 6])\n",
      "condition1: False condition2: False\n",
      "tree: {} visited: {0, 1, 2}\n",
      "condition1: True condition2: False\n",
      "tree: {} visited: {0, 1, 2}\n",
      "condition1: True condition2: True\n",
      "tree: {4: 2} visited: {0, 1, 2}\n",
      "condition1: True condition2: False\n",
      "tree: {4: 2} visited: {0, 1, 2}\n",
      "near_positions: {1: 8, 2: 9, 3: 11}\n",
      "cost: [inf, 8, 9, 11, 5, inf, inf]\n",
      "cost: [inf, inf, inf, 11, 5, inf, inf]\n",
      "position: 4 visited: {0, 1, 2, 4}\n",
      "next_path: dict_keys([1, 2])\n",
      "condition1: False condition2: False\n",
      "tree: {4: 2} visited: {0, 1, 2, 4}\n",
      "condition1: False condition2: False\n",
      "tree: {4: 2} visited: {0, 1, 2, 4}\n",
      "near_positions: {1: 8, 2: 9, 3: 11}\n",
      "cost: [inf, 8, 9, 11, 5, inf, inf]\n",
      "cost: [inf, inf, inf, 11, inf, inf, inf]\n",
      "position: 3 visited: {0, 1, 2, 3, 4}\n",
      "next_path: dict_keys([0, 2, 5])\n",
      "condition1: False condition2: False\n",
      "tree: {4: 2} visited: {0, 1, 2, 3, 4}\n",
      "condition1: False condition2: False\n",
      "tree: {4: 2} visited: {0, 1, 2, 3, 4}\n",
      "condition1: True condition2: True\n",
      "tree: {4: 2, 5: 3} visited: {0, 1, 2, 3, 4}\n",
      "near_positions: {1: 8, 2: 9, 3: 11}\n",
      "cost: [inf, 8, 9, 11, inf, 8, inf]\n",
      "cost: [inf, inf, inf, inf, inf, 8, inf]\n",
      "position: 5 visited: {0, 1, 2, 3, 4, 5}\n",
      "next_path: dict_keys([3, 6])\n",
      "condition1: False condition2: False\n",
      "tree: {4: 2, 5: 3} visited: {0, 1, 2, 3, 4, 5}\n",
      "condition1: True condition2: True\n",
      "tree: {4: 2, 5: 3, 6: 5} visited: {0, 1, 2, 3, 4, 5}\n",
      "near_positions: {1: 8, 2: 9, 3: 11}\n",
      "cost: [inf, 8, 9, 11, inf, 8, 7]\n",
      "cost: [inf, inf, inf, inf, inf, inf, 7]\n",
      "position: 6 visited: {0, 1, 2, 3, 4, 5, 6}\n",
      "next_path: dict_keys([2, 5])\n",
      "condition1: False condition2: False\n",
      "tree: {4: 2, 5: 3, 6: 5} visited: {0, 1, 2, 3, 4, 5, 6}\n",
      "condition1: False condition2: False\n",
      "tree: {4: 2, 5: 3, 6: 5} visited: {0, 1, 2, 3, 4, 5, 6}\n"
     ]
    },
    {
     "data": {
      "text/plain": [
       "{4: 2, 5: 3, 6: 5}"
      ]
     },
     "execution_count": 58,
     "metadata": {},
     "output_type": "execute_result"
    }
   ],
   "source": [
    "prim4dict(prim_graph,0)"
   ]
  },
  {
   "cell_type": "code",
   "execution_count": null,
   "metadata": {
    "collapsed": true
   },
   "outputs": [],
   "source": []
  },
  {
   "cell_type": "code",
   "execution_count": null,
   "metadata": {
    "collapsed": true
   },
   "outputs": [],
   "source": []
  },
  {
   "cell_type": "code",
   "execution_count": 55,
   "metadata": {
    "collapsed": true
   },
   "outputs": [],
   "source": [
    "def popmin(pqueue):\n",
    "    # A (ascending or min) priority queue keeps element with\n",
    "    # lowest priority on top. So pop function pops out the element with\n",
    "    # lowest value. It can be implemented as sorted or unsorted array\n",
    "    # (dictionary in this case) or as a tree (lowest priority element is\n",
    "    # root of tree)\n",
    "    lowest = 1000\n",
    "    keylowest = None\n",
    "    for key in pqueue:\n",
    "        if pqueue[key] < lowest:\n",
    "            lowest = pqueue[key]\n",
    "            keylowest = key\n",
    "    del pqueue[keylowest]\n",
    "    return keylowest\n",
    " \n",
    "def prim(graph, root):\n",
    "    pred = {} # pair {vertex: predecesor in MST}\n",
    "    key = {}  # keep track of minimum weight for each vertex\n",
    "    pqueue = {} # priority queue implemented as dictionary\n",
    " \n",
    "    for v in graph:\n",
    "        pred[v] = -1\n",
    "        key[v] = 1000\n",
    "    key[root] = 0\n",
    "    for v in graph:\n",
    "        pqueue[v] = key[v]\n",
    "     \n",
    "    while pqueue:\n",
    "        u = popmin(pqueue)\n",
    "        for v in graph[u]: # all neighbors of v\n",
    "            if v in pqueue and graph[u][v] < key[v]:\n",
    "                pred[v] = u\n",
    "                key[v] = graph[u][v]\n",
    "                pqueue[v] = graph[u][v]\n",
    "    return pred, key, pqueue"
   ]
  },
  {
   "cell_type": "code",
   "execution_count": 50,
   "metadata": {
    "collapsed": false
   },
   "outputs": [
    {
     "data": {
      "text/plain": [
       "{0: {1: 8, 2: 9, 3: 11},\n",
       " 1: {1: 8, 4: 10},\n",
       " 2: {0: 9, 3: 13, 4: 5, 6: 12},\n",
       " 3: {0: 11, 2: 13, 5: 8},\n",
       " 4: {1: 10, 2: 5},\n",
       " 5: {3: 8, 6: 7},\n",
       " 6: {2: 12, 5: 7}}"
      ]
     },
     "execution_count": 50,
     "metadata": {},
     "output_type": "execute_result"
    }
   ],
   "source": [
    "prim_graph"
   ]
  },
  {
   "cell_type": "code",
   "execution_count": 56,
   "metadata": {
    "collapsed": false
   },
   "outputs": [
    {
     "data": {
      "text/plain": [
       "({0: -1, 1: 0, 2: 0, 3: 0, 4: 2, 5: 3, 6: 5},\n",
       " {0: 0, 1: 8, 2: 9, 3: 11, 4: 5, 5: 8, 6: 7},\n",
       " {})"
      ]
     },
     "execution_count": 56,
     "metadata": {},
     "output_type": "execute_result"
    }
   ],
   "source": [
    "prim(prim_graph, 0)"
   ]
  },
  {
   "cell_type": "code",
   "execution_count": 54,
   "metadata": {
    "collapsed": false
   },
   "outputs": [
    {
     "name": "stdout",
     "output_type": "stream",
     "text": [
      "0: -1\n",
      "1: 0\n",
      "2: 0\n",
      "3: 0\n",
      "4: 2\n",
      "5: 3\n",
      "6: 5\n"
     ]
    }
   ],
   "source": [
    "for v in prim(prim_graph, 0): print(\"%s: %s\" % (v, prim(prim_graph, 0)[v]))"
   ]
  },
  {
   "cell_type": "code",
   "execution_count": null,
   "metadata": {
    "collapsed": true
   },
   "outputs": [],
   "source": []
  },
  {
   "cell_type": "code",
   "execution_count": null,
   "metadata": {
    "collapsed": true
   },
   "outputs": [],
   "source": []
  },
  {
   "cell_type": "code",
   "execution_count": null,
   "metadata": {
    "collapsed": true
   },
   "outputs": [],
   "source": []
  },
  {
   "cell_type": "code",
   "execution_count": null,
   "metadata": {
    "collapsed": true
   },
   "outputs": [],
   "source": []
  },
  {
   "cell_type": "code",
   "execution_count": null,
   "metadata": {
    "collapsed": true
   },
   "outputs": [],
   "source": []
  },
  {
   "cell_type": "code",
   "execution_count": null,
   "metadata": {
    "collapsed": true
   },
   "outputs": [],
   "source": []
  },
  {
   "cell_type": "code",
   "execution_count": null,
   "metadata": {
    "collapsed": true
   },
   "outputs": [],
   "source": []
  },
  {
   "cell_type": "code",
   "execution_count": null,
   "metadata": {
    "collapsed": true
   },
   "outputs": [],
   "source": []
  }
 ],
 "metadata": {
  "kernelspec": {
   "display_name": "Python 3",
   "language": "python",
   "name": "python3"
  },
  "language_info": {
   "codemirror_mode": {
    "name": "ipython",
    "version": 3
   },
   "file_extension": ".py",
   "mimetype": "text/x-python",
   "name": "python",
   "nbconvert_exporter": "python",
   "pygments_lexer": "ipython3",
   "version": "3.6.0"
  }
 },
 "nbformat": 4,
 "nbformat_minor": 2
}
