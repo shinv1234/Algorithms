{
 "cells": [
  {
   "cell_type": "code",
   "execution_count": 1,
   "metadata": {
    "collapsed": true
   },
   "outputs": [],
   "source": [
    "from pprint import pprint"
   ]
  },
  {
   "cell_type": "code",
   "execution_count": 10,
   "metadata": {
    "collapsed": true
   },
   "outputs": [],
   "source": [
    "a_star_graph = {\n",
    "    0:{1:20},\n",
    "    1:{4:17},\n",
    "    2:{0:10, 1:17, 3:30, 4:25, 5:23},\n",
    "    3:{0:19, 6:24},\n",
    "    4:{7:25, 8:39},\n",
    "    5:{3:16, 4:28, 6:18},\n",
    "    6:{9:20},\n",
    "    7:{8:29},\n",
    "    8:{5:20, 9:28},\n",
    "    9:{7:40}\n",
    "}\n",
    "\n",
    "a_star_h = {0:61, 1:68, 2:52, 3:30, 4:25, 5:34, 6:19, 7:39, 8:19, 9:0}"
   ]
  },
  {
   "cell_type": "code",
   "execution_count": 29,
   "metadata": {
    "collapsed": true
   },
   "outputs": [],
   "source": [
    "ddd = [2, 4, 6, 3]"
   ]
  },
  {
   "cell_type": "code",
   "execution_count": 33,
   "metadata": {
    "collapsed": false
   },
   "outputs": [],
   "source": [
    "del ddd[ddd.index(6)]"
   ]
  },
  {
   "cell_type": "code",
   "execution_count": 34,
   "metadata": {
    "collapsed": false
   },
   "outputs": [
    {
     "data": {
      "text/plain": [
       "[2, 4, 3]"
      ]
     },
     "execution_count": 34,
     "metadata": {},
     "output_type": "execute_result"
    }
   ],
   "source": [
    "ddd"
   ]
  },
  {
   "cell_type": "code",
   "execution_count": null,
   "metadata": {
    "collapsed": true
   },
   "outputs": [],
   "source": []
  },
  {
   "cell_type": "code",
   "execution_count": null,
   "metadata": {
    "collapsed": true
   },
   "outputs": [],
   "source": []
  },
  {
   "cell_type": "code",
   "execution_count": 60,
   "metadata": {
    "collapsed": false
   },
   "outputs": [],
   "source": [
    "def extract_min(queue, f):\n",
    "    q_f_dict = {v:c for v, c in zip(queue, f)}\n",
    "    return min(q_f_dict, key=q_f_dict.get)\n",
    "\n",
    "def a_star(graph, esti_dist, start, goal):\n",
    "    if start == goal:\n",
    "        raise Exception('Start == Goal')\n",
    "    queue = [i for i in graph]\n",
    "    halfway_path = [float('inf') for i in queue]\n",
    "    residual_path = [float('inf') for i in queue]\n",
    "    dist = [i for i in esti_dist]\n",
    "    prev = dict()\n",
    "    halfway_path[start] = 0\n",
    "    residual_path[start] = dist[start]\n",
    "    while len(queue) != 0:\n",
    "        u = delete_min(queue, residual_path)\n",
    "        # print(u)\n",
    "        del queue[queue.index(u)]\n",
    "        if u == goal:\n",
    "            return prev\n",
    "        else:\n",
    "            for v in graph[u]:\n",
    "                # print('u:',u, 'v:', v)\n",
    "                cond0 = v in queue\n",
    "                cond1 = halfway_path[u] + graph[u][v] < halfway_path[v]\n",
    "                if cond0 and cond1:\n",
    "                    halfway_path[v] = halfway_path[u] + graph[u][v]\n",
    "                    prev[v] = u\n",
    "                    residual_path[v] = halfway_path[v] + dist[v]\n",
    "                    # print('halfway_path:', halfway_path, 'residual_path:', residual_path)\n",
    "    return prev\n"
   ]
  },
  {
   "cell_type": "code",
   "execution_count": 58,
   "metadata": {
    "collapsed": false
   },
   "outputs": [
    {
     "data": {
      "text/plain": [
       "{0: 2, 1: 2, 3: 2, 4: 2, 5: 2, 6: 5, 7: 4, 8: 4, 9: 6}"
      ]
     },
     "execution_count": 58,
     "metadata": {},
     "output_type": "execute_result"
    }
   ],
   "source": [
    "a_star(a_star_graph, a_star_h, 2, 1)"
   ]
  },
  {
   "cell_type": "code",
   "execution_count": 56,
   "metadata": {
    "collapsed": false
   },
   "outputs": [
    {
     "data": {
      "text/plain": [
       "{0: 2, 1: 2, 3: 2, 4: 2, 5: 2, 6: 5, 7: 4, 8: 4, 9: 6}"
      ]
     },
     "execution_count": 56,
     "metadata": {},
     "output_type": "execute_result"
    }
   ],
   "source": [
    "a_star(a_star_graph, a_star_h, 2, 9)"
   ]
  },
  {
   "cell_type": "code",
   "execution_count": 61,
   "metadata": {
    "collapsed": false
   },
   "outputs": [
    {
     "ename": "Exception",
     "evalue": "Start == Goal",
     "output_type": "error",
     "traceback": [
      "\u001b[0;31m---------------------------------------------------------------------------\u001b[0m",
      "\u001b[0;31mException\u001b[0m                                 Traceback (most recent call last)",
      "\u001b[0;32m<ipython-input-61-facdc56a1e34>\u001b[0m in \u001b[0;36m<module>\u001b[0;34m()\u001b[0m\n\u001b[0;32m----> 1\u001b[0;31m \u001b[0ma_star\u001b[0m\u001b[1;33m(\u001b[0m\u001b[0ma_star_graph\u001b[0m\u001b[1;33m,\u001b[0m \u001b[0ma_star_h\u001b[0m\u001b[1;33m,\u001b[0m \u001b[1;36m2\u001b[0m\u001b[1;33m,\u001b[0m \u001b[1;36m2\u001b[0m\u001b[1;33m)\u001b[0m\u001b[1;33m\u001b[0m\u001b[0m\n\u001b[0m",
      "\u001b[0;32m<ipython-input-60-8d9502ea9579>\u001b[0m in \u001b[0;36ma_star\u001b[0;34m(graph, esti_dist, start, goal)\u001b[0m\n\u001b[1;32m      5\u001b[0m \u001b[1;32mdef\u001b[0m \u001b[0ma_star\u001b[0m\u001b[1;33m(\u001b[0m\u001b[0mgraph\u001b[0m\u001b[1;33m,\u001b[0m \u001b[0mesti_dist\u001b[0m\u001b[1;33m,\u001b[0m \u001b[0mstart\u001b[0m\u001b[1;33m,\u001b[0m \u001b[0mgoal\u001b[0m\u001b[1;33m)\u001b[0m\u001b[1;33m:\u001b[0m\u001b[1;33m\u001b[0m\u001b[0m\n\u001b[1;32m      6\u001b[0m     \u001b[1;32mif\u001b[0m \u001b[0mstart\u001b[0m \u001b[1;33m==\u001b[0m \u001b[0mgoal\u001b[0m\u001b[1;33m:\u001b[0m\u001b[1;33m\u001b[0m\u001b[0m\n\u001b[0;32m----> 7\u001b[0;31m         \u001b[1;32mraise\u001b[0m \u001b[0mException\u001b[0m\u001b[1;33m(\u001b[0m\u001b[1;34m'Start == Goal'\u001b[0m\u001b[1;33m)\u001b[0m\u001b[1;33m\u001b[0m\u001b[0m\n\u001b[0m\u001b[1;32m      8\u001b[0m     \u001b[0mqueue\u001b[0m \u001b[1;33m=\u001b[0m \u001b[1;33m[\u001b[0m\u001b[0mi\u001b[0m \u001b[1;32mfor\u001b[0m \u001b[0mi\u001b[0m \u001b[1;32min\u001b[0m \u001b[0mgraph\u001b[0m\u001b[1;33m]\u001b[0m\u001b[1;33m\u001b[0m\u001b[0m\n\u001b[1;32m      9\u001b[0m     \u001b[0mhalfway_path\u001b[0m \u001b[1;33m=\u001b[0m \u001b[1;33m[\u001b[0m\u001b[0mfloat\u001b[0m\u001b[1;33m(\u001b[0m\u001b[1;34m'inf'\u001b[0m\u001b[1;33m)\u001b[0m \u001b[1;32mfor\u001b[0m \u001b[0mi\u001b[0m \u001b[1;32min\u001b[0m \u001b[0mqueue\u001b[0m\u001b[1;33m]\u001b[0m\u001b[1;33m\u001b[0m\u001b[0m\n",
      "\u001b[0;31mException\u001b[0m: Start == Goal"
     ]
    }
   ],
   "source": [
    "a_star(a_star_graph, a_star_h, 2, 2)"
   ]
  },
  {
   "cell_type": "code",
   "execution_count": null,
   "metadata": {
    "collapsed": true
   },
   "outputs": [],
   "source": []
  }
 ],
 "metadata": {
  "kernelspec": {
   "display_name": "Python 3",
   "language": "python",
   "name": "python3"
  },
  "language_info": {
   "codemirror_mode": {
    "name": "ipython",
    "version": 3
   },
   "file_extension": ".py",
   "mimetype": "text/x-python",
   "name": "python",
   "nbconvert_exporter": "python",
   "pygments_lexer": "ipython3",
   "version": "3.6.0"
  }
 },
 "nbformat": 4,
 "nbformat_minor": 2
}
