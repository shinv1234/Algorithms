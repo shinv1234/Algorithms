{
 "cells": [
  {
   "cell_type": "code",
   "execution_count": 72,
   "metadata": {
    "collapsed": true
   },
   "outputs": [],
   "source": [
    "from pprint import pprint"
   ]
  },
  {
   "cell_type": "code",
   "execution_count": 83,
   "metadata": {
    "collapsed": false
   },
   "outputs": [],
   "source": [
    "dijkstra_graph = {\n",
    "    0:{1:8, 2:9, 3:11},\n",
    "    1:{4:10},\n",
    "    2:{1:6, 3:3, 4:1},\n",
    "    3:{5:8, 6:8},\n",
    "    4:{7:2},\n",
    "    5:{6:7},\n",
    "    6:{2:12, 7:5},\n",
    "    7:{5:4},\n",
    "}"
   ]
  },
  {
   "cell_type": "code",
   "execution_count": 74,
   "metadata": {
    "collapsed": false
   },
   "outputs": [
    {
     "data": {
      "text/plain": [
       "{0: {1: 8, 2: 9, 3: 11},\n",
       " 1: {4: 10},\n",
       " 2: {1: 6, 3: 3, 4: 1},\n",
       " 3: {5: 8, 6: 8},\n",
       " 4: {7: 2},\n",
       " 5: {6: 7},\n",
       " 6: {2: 12, 7: 5},\n",
       " 7: {5: 4}}"
      ]
     },
     "execution_count": 74,
     "metadata": {},
     "output_type": "execute_result"
    }
   ],
   "source": [
    "dijkstra_graph"
   ]
  },
  {
   "cell_type": "code",
   "execution_count": 88,
   "metadata": {
    "collapsed": false
   },
   "outputs": [
    {
     "data": {
      "text/plain": [
       "[0, 1, 2, 3, 4, 5, 6, 7]"
      ]
     },
     "execution_count": 88,
     "metadata": {},
     "output_type": "execute_result"
    }
   ],
   "source": [
    "[i for i in dijkstra_graph]"
   ]
  },
  {
   "cell_type": "raw",
   "metadata": {},
   "source": [
    "[i for i in dijkstra_graph]"
   ]
  },
  {
   "cell_type": "code",
   "execution_count": 94,
   "metadata": {
    "collapsed": false
   },
   "outputs": [],
   "source": [
    "# 2\n",
    "def merge4kruskal(left, right):\n",
    "    \"\"\"\n",
    "    \n",
    "    \"\"\"\n",
    "    result = []\n",
    "    while len(left) > 0 or len(right) > 0:\n",
    "        if len(left) > 0 and len(right) > 0:\n",
    "            if left[0][1] <= right[0][1]:\n",
    "                result.append(left[0])\n",
    "                left = left[1:]\n",
    "            else:\n",
    "                result.append(right[0])\n",
    "                right = right[1:]\n",
    "        elif len(left) > 0:\n",
    "            result.append(left[0])\n",
    "            left = left[1:]\n",
    "        elif len(right) > 0:\n",
    "            result.append(right[0])\n",
    "            right = right[1:]\n",
    "    return result\n",
    "\n",
    "def merge_sort4kruskal(list):\n",
    "    \"\"\"\n",
    "    \n",
    "    \"\"\"\n",
    "    if len(list) <= 1:\n",
    "        return list\n",
    "    \n",
    "    mid = len(list) // 2    \n",
    "    leftList = list[:mid]\n",
    "    rightList = list[mid:]\n",
    "    # print('leftList ', leftList)\n",
    "    # print('rightList ', rightList)\n",
    "    leftList = merge_sort4kruskal(leftList)\n",
    "    rightList = merge_sort4kruskal(rightList)\n",
    "    # print('merged_leftList ', leftList)\n",
    "    # print('merged_rightList ', rightList)\n",
    "    lst = merge4kruskal(leftList, rightList)\n",
    "    # print('lst ', lst)\n",
    "    return lst\n",
    "\n",
    "def make_vtx_edg_list(graph):\n",
    "    '''\n",
    "    전체 그래프를 간선 목록으로 변환\n",
    "    '''\n",
    "    duplicated_list = []\n",
    "    vtx_edg_list = []\n",
    "    for i in graph:\n",
    "        for j in graph[i]:\n",
    "            duplicated_list.append([set((i, j)), graph[i][j]])\n",
    "    for k in duplicated_list: # 중복제거\n",
    "        if k not in vtx_edg_list:\n",
    "            vtx_edg_list.append(k)\n",
    "    del duplicated_list\n",
    "    vtx_edg_list = merge_sort4kruskal(vtx_edg_list)\n",
    "    return vtx_edg_list"
   ]
  },
  {
   "cell_type": "code",
   "execution_count": 95,
   "metadata": {
    "collapsed": false
   },
   "outputs": [
    {
     "data": {
      "text/plain": [
       "[[{2, 4}, 1],\n",
       " [{4, 7}, 2],\n",
       " [{2, 3}, 3],\n",
       " [{5, 7}, 4],\n",
       " [{6, 7}, 5],\n",
       " [{1, 2}, 6],\n",
       " [{5, 6}, 7],\n",
       " [{0, 1}, 8],\n",
       " [{3, 5}, 8],\n",
       " [{3, 6}, 8],\n",
       " [{0, 2}, 9],\n",
       " [{1, 4}, 10],\n",
       " [{0, 3}, 11],\n",
       " [{2, 6}, 12]]"
      ]
     },
     "execution_count": 95,
     "metadata": {},
     "output_type": "execute_result"
    }
   ],
   "source": [
    "make_vtx_edg_list(dijkstra_graph)"
   ]
  },
  {
   "cell_type": "code",
   "execution_count": null,
   "metadata": {
    "collapsed": true
   },
   "outputs": [],
   "source": []
  },
  {
   "cell_type": "code",
   "execution_count": null,
   "metadata": {
    "collapsed": true
   },
   "outputs": [],
   "source": []
  },
  {
   "cell_type": "code",
   "execution_count": 96,
   "metadata": {
    "collapsed": false
   },
   "outputs": [
    {
     "ename": "SyntaxError",
     "evalue": "unexpected EOF while parsing (<ipython-input-96-ee3304153907>, line 8)",
     "output_type": "error",
     "traceback": [
      "\u001b[0;36m  File \u001b[0;32m\"<ipython-input-96-ee3304153907>\"\u001b[0;36m, line \u001b[0;32m8\u001b[0m\n\u001b[0;31m    \u001b[0m\n\u001b[0m    ^\u001b[0m\n\u001b[0;31mSyntaxError\u001b[0m\u001b[0;31m:\u001b[0m unexpected EOF while parsing\n"
     ]
    }
   ],
   "source": [
    "def dijkstra(graph, start):\n",
    "    vtx_set = set()\n",
    "    cost = []\n",
    "    for v in graph:\n",
    "        cost[v] = float('inf')\n",
    "    cost[start] = 0\n",
    "    while list(vtx_set) != [i for i in graph]:\n",
    "        "
   ]
  },
  {
   "cell_type": "code",
   "execution_count": 89,
   "metadata": {
    "collapsed": false
   },
   "outputs": [
    {
     "data": {
      "text/plain": [
       "[]"
      ]
     },
     "execution_count": 89,
     "metadata": {},
     "output_type": "execute_result"
    }
   ],
   "source": [
    "list(set())"
   ]
  },
  {
   "cell_type": "code",
   "execution_count": null,
   "metadata": {
    "collapsed": true
   },
   "outputs": [],
   "source": []
  },
  {
   "cell_type": "code",
   "execution_count": null,
   "metadata": {
    "collapsed": true
   },
   "outputs": [],
   "source": []
  },
  {
   "cell_type": "code",
   "execution_count": null,
   "metadata": {
    "collapsed": true
   },
   "outputs": [],
   "source": []
  },
  {
   "cell_type": "code",
   "execution_count": null,
   "metadata": {
    "collapsed": true
   },
   "outputs": [],
   "source": []
  },
  {
   "cell_type": "code",
   "execution_count": null,
   "metadata": {
    "collapsed": true
   },
   "outputs": [],
   "source": []
  },
  {
   "cell_type": "code",
   "execution_count": null,
   "metadata": {
    "collapsed": true
   },
   "outputs": [],
   "source": []
  },
  {
   "cell_type": "code",
   "execution_count": null,
   "metadata": {
    "collapsed": true
   },
   "outputs": [],
   "source": []
  },
  {
   "cell_type": "code",
   "execution_count": null,
   "metadata": {
    "collapsed": true
   },
   "outputs": [],
   "source": []
  },
  {
   "cell_type": "code",
   "execution_count": null,
   "metadata": {
    "collapsed": true
   },
   "outputs": [],
   "source": []
  },
  {
   "cell_type": "code",
   "execution_count": null,
   "metadata": {
    "collapsed": true
   },
   "outputs": [],
   "source": []
  },
  {
   "cell_type": "code",
   "execution_count": null,
   "metadata": {
    "collapsed": true
   },
   "outputs": [],
   "source": []
  }
 ],
 "metadata": {
  "kernelspec": {
   "display_name": "Python 3",
   "language": "python",
   "name": "python3"
  },
  "language_info": {
   "codemirror_mode": {
    "name": "ipython",
    "version": 3
   },
   "file_extension": ".py",
   "mimetype": "text/x-python",
   "name": "python",
   "nbconvert_exporter": "python",
   "pygments_lexer": "ipython3",
   "version": "3.6.0"
  }
 },
 "nbformat": 4,
 "nbformat_minor": 2
}
